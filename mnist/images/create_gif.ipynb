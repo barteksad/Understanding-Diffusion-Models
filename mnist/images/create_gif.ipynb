{
 "cells": [
  {
   "cell_type": "code",
   "execution_count": 4,
   "metadata": {},
   "outputs": [],
   "source": [
    "import glob\n",
    "from PIL import Image\n",
    "\n",
    "\n",
    "def make_gif(frame_folder):\n",
    "    filenames = glob.glob(f\"{frame_folder}/*beta_sqrt.png\")\n",
    "    filenames = sorted(filenames, key=lambda x: int(x.split(\"_\")[1]))\n",
    "    frames = [Image.open(image) for image in filenames]\n",
    "    frame_one = frames[0]\n",
    "    frame_one.save(\n",
    "        \"beta_sqrt.gif\",\n",
    "        format=\"GIF\",\n",
    "        append_images=frames,\n",
    "        save_all=True,\n",
    "        duration=300,\n",
    "        loop=0,\n",
    "    )\n",
    "\n",
    "\n",
    "if __name__ == \"__main__\":\n",
    "    make_gif(\".\")"
   ]
  },
  {
   "cell_type": "code",
   "execution_count": null,
   "metadata": {},
   "outputs": [],
   "source": []
  }
 ],
 "metadata": {
  "kernelspec": {
   "display_name": "Python 3",
   "language": "python",
   "name": "python3"
  },
  "language_info": {
   "codemirror_mode": {
    "name": "ipython",
    "version": 3
   },
   "file_extension": ".py",
   "mimetype": "text/x-python",
   "name": "python",
   "nbconvert_exporter": "python",
   "pygments_lexer": "ipython3",
   "version": "3.10.11"
  }
 },
 "nbformat": 4,
 "nbformat_minor": 2
}
